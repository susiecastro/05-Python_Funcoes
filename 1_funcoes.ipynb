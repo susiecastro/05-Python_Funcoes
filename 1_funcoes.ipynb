{
 "cells": [
  {
   "cell_type": "markdown",
   "metadata": {},
   "source": [
    "### Funções\n",
    "\n",
    "* Reaproveitamento de código\n",
    "* Código mais organizado\n",
    "* Podem ou não podem ter parâmetros\n",
    "* Parâmetros podem ter valores padrões\n",
    "* Podem ou não ter retorno\n",
    "* Abstração de complexidade"
   ]
  },
  {
   "cell_type": "code",
   "execution_count": 1,
   "metadata": {},
   "outputs": [],
   "source": [
    "# parametros posicionais - a função reconhece o que é numero_1, numero_2 e numero_3 pela posição,\n",
    "\n",
    "def mostra_numeros (numero_1, numero_2, numero_3):\n",
    "    print(numero_1, numero_2, numero_3)"
   ]
  },
  {
   "cell_type": "code",
   "execution_count": 3,
   "metadata": {},
   "outputs": [
    {
     "name": "stdout",
     "output_type": "stream",
     "text": [
      "10 20 30\n"
     ]
    }
   ],
   "source": [
    "# quando chamamos a função o Python reconhece que os números respectivos de cada item pela posição\n",
    "mostra_numeros(10, 20, 30)"
   ]
  },
  {
   "cell_type": "code",
   "execution_count": 4,
   "metadata": {},
   "outputs": [
    {
     "name": "stdout",
     "output_type": "stream",
     "text": [
      "30 20 10\n"
     ]
    }
   ],
   "source": [
    "# utilizar parâmetros nomeados - é colocado o nome do parâmetro antes do valor\n",
    "\n",
    "mostra_numeros(numero_3 = 10, numero_1 = 30, numero_2= 20)"
   ]
  },
  {
   "cell_type": "markdown",
   "metadata": {},
   "source": [
    "### Parâmetros posicionais e parâmetros nomeados"
   ]
  },
  {
   "cell_type": "code",
   "execution_count": null,
   "metadata": {},
   "outputs": [],
   "source": []
  },
  {
   "cell_type": "markdown",
   "metadata": {},
   "source": [
    "### Docstrings"
   ]
  },
  {
   "cell_type": "code",
   "execution_count": 5,
   "metadata": {},
   "outputs": [
    {
     "name": "stdout",
     "output_type": "stream",
     "text": [
      "Help on built-in function sum in module builtins:\n",
      "\n",
      "sum(iterable, /, start=0)\n",
      "    Return the sum of a 'start' value (default: 0) plus an iterable of numbers\n",
      "    \n",
      "    When the iterable is empty, return the start value.\n",
      "    This function is intended specifically for use with numeric values and may\n",
      "    reject non-numeric types.\n",
      "\n"
     ]
    }
   ],
   "source": [
    "help(sum)"
   ]
  },
  {
   "cell_type": "code",
   "execution_count": 10,
   "metadata": {},
   "outputs": [],
   "source": [
    "# Função com Docstrings - após o nome da função colocar aspas triplas com as instruções da função. É criado o help da função\n",
    "def somar (numero_1, numero_2):\n",
    "    \"\"\"\n",
    "    A função somar() foi desenvolvida para retornar a soma de dois números inteiros.\n",
    "\n",
    "    :parâmetro numero_1 = primeiro numero inteiro\n",
    "    :parâmetro numero_2 = segundo numero inteiro\n",
    "\n",
    "    :return = retorna a soma de numero_1 e numero_2\n",
    "    \"\"\"\n",
    "    return numero_1 + numero_2"
   ]
  },
  {
   "cell_type": "code",
   "execution_count": 11,
   "metadata": {},
   "outputs": [
    {
     "name": "stdout",
     "output_type": "stream",
     "text": [
      "Help on function somar in module __main__:\n",
      "\n",
      "somar(numero_1, numero_2)\n",
      "    A função somar() foi desenvolvida para retornar a soma de dois números inteiros.\n",
      "    \n",
      "    :parâmetro numero_1 = primeiro numero inteiro\n",
      "    :parâmetro numero_2 = segundo numero inteiro\n",
      "    \n",
      "    :return = retorna a soma de numero_1 e numero_2\n",
      "\n"
     ]
    }
   ],
   "source": [
    "help(somar)\n"
   ]
  },
  {
   "cell_type": "markdown",
   "metadata": {},
   "source": [
    "### *args\n",
    "\n",
    "O *args é um parâmetro especial (pode ter qualquer nome, desde que tenha o asterisco!) que nos permmite passar vários argumentos para uma função. Os argumentos são transformados em uma tupla. O * é um operador de desempacotamento, introduzido na versão 2 da linguagem e pode ser utilizado com qualquer objeto iterável"
   ]
  },
  {
   "cell_type": "code",
   "execution_count": 1,
   "metadata": {},
   "outputs": [],
   "source": [
    "# Uma função somar é criada com dois elementos\n",
    "def somar(a,b):\n",
    "    return (a + b)"
   ]
  },
  {
   "cell_type": "code",
   "execution_count": 2,
   "metadata": {},
   "outputs": [
    {
     "data": {
      "text/plain": [
       "30"
      ]
     },
     "execution_count": 2,
     "metadata": {},
     "output_type": "execute_result"
    }
   ],
   "source": [
    "somar(10,20)"
   ]
  },
  {
   "cell_type": "code",
   "execution_count": 4,
   "metadata": {},
   "outputs": [
    {
     "ename": "NameError",
     "evalue": "name 'somar1' is not defined",
     "output_type": "error",
     "traceback": [
      "\u001b[1;31m---------------------------------------------------------------------------\u001b[0m",
      "\u001b[1;31mNameError\u001b[0m                                 Traceback (most recent call last)",
      "\u001b[1;32mc:\\Python\\DominandoPython\\modulo5_funcoes\\1_funcoes.ipynb Cell 14\u001b[0m line \u001b[0;36m3\n\u001b[0;32m      <a href='vscode-notebook-cell:/c%3A/Python/DominandoPython/modulo5_funcoes/1_funcoes.ipynb#X24sZmlsZQ%3D%3D?line=0'>1</a>\u001b[0m \u001b[39m# Caso seja necessário somar mais um elemento a função dará erro. Para que a soma fosse feita seria necessário alterar a quantidade de elmentos da função\u001b[39;00m\n\u001b[0;32m      <a href='vscode-notebook-cell:/c%3A/Python/DominandoPython/modulo5_funcoes/1_funcoes.ipynb#X24sZmlsZQ%3D%3D?line=1'>2</a>\u001b[0m \u001b[39m# Exemplo somar(a, b,c )\u001b[39;00m\n\u001b[1;32m----> <a href='vscode-notebook-cell:/c%3A/Python/DominandoPython/modulo5_funcoes/1_funcoes.ipynb#X24sZmlsZQ%3D%3D?line=2'>3</a>\u001b[0m somar1(\u001b[39m10\u001b[39m, \u001b[39m20\u001b[39m, \u001b[39m30\u001b[39m)\n",
      "\u001b[1;31mNameError\u001b[0m: name 'somar1' is not defined"
     ]
    }
   ],
   "source": [
    "# Caso seja necessário somar mais um elemento a função dará erro. Para que a soma fosse feita seria necessário alterar a quantidade de elmentos da função\n",
    "# Exemplo somar(a, b,c )\n",
    "somar1(10, 20, 30)"
   ]
  },
  {
   "cell_type": "code",
   "execution_count": null,
   "metadata": {},
   "outputs": [],
   "source": [
    "\"\"\"Usando a *args - parâmetro de desempacotamento, que também é posicional. Você cria a função e pode alterar o número de elementos a serem\n",
    "somados, de acordo com sua necessidade\"\"\""
   ]
  },
  {
   "cell_type": "code",
   "execution_count": 16,
   "metadata": {},
   "outputs": [],
   "source": [
    "def somar (*args):\n",
    "    print(sum(args))"
   ]
  },
  {
   "cell_type": "code",
   "execution_count": 17,
   "metadata": {},
   "outputs": [
    {
     "name": "stdout",
     "output_type": "stream",
     "text": [
      "10\n"
     ]
    }
   ],
   "source": [
    "somar(1, 2, 3, 4)"
   ]
  },
  {
   "cell_type": "code",
   "execution_count": 18,
   "metadata": {},
   "outputs": [
    {
     "name": "stdout",
     "output_type": "stream",
     "text": [
      "0\n"
     ]
    }
   ],
   "source": [
    "somar()"
   ]
  },
  {
   "cell_type": "code",
   "execution_count": 19,
   "metadata": {},
   "outputs": [
    {
     "name": "stdout",
     "output_type": "stream",
     "text": [
      "36\n"
     ]
    }
   ],
   "source": [
    "somar(1, 2, 3, 4, 5, 6, 7, 8)"
   ]
  },
  {
   "cell_type": "markdown",
   "metadata": {},
   "source": [
    "### **kwargs"
   ]
  },
  {
   "cell_type": "markdown",
   "metadata": {},
   "source": [
    "O *kwargs é um parâmetro especial (que pode ter qualquer nome, desde que tenha dois asteriscos!) que nos permite passar vários argumentospara uma função. Os argumentos são transformados em um dicionário. O ** é um operador de desempacotamento, introduzido na versão 2 da linguagem e só pode ser uitllizado com dicionários."
   ]
  },
  {
   "cell_type": "code",
   "execution_count": 20,
   "metadata": {},
   "outputs": [],
   "source": [
    "dict_a = {'nome':'Susie'}\n",
    "dict_b ={'linguagem':'Python'}\n",
    "\n",
    "dict_c = {**dict_a, **dict_b}"
   ]
  },
  {
   "cell_type": "code",
   "execution_count": 21,
   "metadata": {},
   "outputs": [
    {
     "name": "stdout",
     "output_type": "stream",
     "text": [
      "{'nome': 'Susie', 'linguagem': 'Python'}\n"
     ]
    }
   ],
   "source": [
    "print(dict_c)"
   ]
  },
  {
   "cell_type": "code",
   "execution_count": 27,
   "metadata": {},
   "outputs": [],
   "source": [
    "# kwargs - Keywords(palavras/nomes) + argumentos = kwargs - argumentos nomeados\n",
    "\n",
    "def calculadora (**kwargs):\n",
    "    for value in kwargs.values():\n",
    "        print(value)"
   ]
  },
  {
   "cell_type": "code",
   "execution_count": 29,
   "metadata": {},
   "outputs": [
    {
     "name": "stdout",
     "output_type": "stream",
     "text": [
      "Susie\n",
      "Python\n",
      "True\n",
      "EmpowerData\n"
     ]
    }
   ],
   "source": [
    "calculadora(nome='Susie', linguagem='Python', status=True, login='EmpowerData')"
   ]
  },
  {
   "cell_type": "code",
   "execution_count": 31,
   "metadata": {},
   "outputs": [],
   "source": [
    "def calculadora2 (**parametros):\n",
    "    for value in parametros.keys():\n",
    "        print(value)"
   ]
  },
  {
   "cell_type": "code",
   "execution_count": 32,
   "metadata": {},
   "outputs": [
    {
     "name": "stdout",
     "output_type": "stream",
     "text": [
      "nome\n",
      "linguagem\n",
      "status\n",
      "idade\n"
     ]
    }
   ],
   "source": [
    "calculadora2 (nome='Susie', linguagem='Python', status=True, idade=38)"
   ]
  },
  {
   "cell_type": "markdown",
   "metadata": {},
   "source": [
    "### Ordem correta dos parâmetros de uma função\n",
    "\n",
    "def func(posicionais, *args, **kwarrgs)\n"
   ]
  },
  {
   "cell_type": "code",
   "execution_count": 7,
   "metadata": {},
   "outputs": [],
   "source": [
    "def somar(numero1, numero2, *args, **kwargs):\n",
    "    print(numero1)\n",
    "    print(numero2)\n",
    "    print(args)\n",
    "    print(kwargs)"
   ]
  },
  {
   "cell_type": "code",
   "execution_count": 12,
   "metadata": {},
   "outputs": [
    {
     "name": "stdout",
     "output_type": "stream",
     "text": [
      "20\n",
      "30\n",
      "(40, 50)\n",
      "{'idade': 10, 'matricula': 100}\n"
     ]
    }
   ],
   "source": [
    "somar(20, 30, 40, 50, idade=10, matricula=100)"
   ]
  },
  {
   "cell_type": "code",
   "execution_count": null,
   "metadata": {},
   "outputs": [],
   "source": []
  },
  {
   "cell_type": "code",
   "execution_count": null,
   "metadata": {},
   "outputs": [],
   "source": []
  },
  {
   "cell_type": "markdown",
   "metadata": {},
   "source": [
    "### Callable - passando funções para funções - é um objeto que pode ser chamado\n",
    "\n",
    "* funções são callables\n",
    "* funções criadas podem ser chamadas"
   ]
  },
  {
   "cell_type": "code",
   "execution_count": 13,
   "metadata": {},
   "outputs": [
    {
     "name": "stdout",
     "output_type": "stream",
     "text": [
      "Help on built-in function callable in module builtins:\n",
      "\n",
      "callable(obj, /)\n",
      "    Return whether the object is callable (i.e., some kind of function).\n",
      "    \n",
      "    Note that classes are callable, as are instances of classes with a\n",
      "    __call__() method.\n",
      "\n"
     ]
    }
   ],
   "source": [
    "help(callable)"
   ]
  },
  {
   "cell_type": "code",
   "execution_count": 14,
   "metadata": {},
   "outputs": [
    {
     "data": {
      "text/plain": [
       "6"
      ]
     },
     "execution_count": 14,
     "metadata": {},
     "output_type": "execute_result"
    }
   ],
   "source": [
    "lista = [1, 2, 3]\n",
    "sum(lista)"
   ]
  },
  {
   "cell_type": "code",
   "execution_count": 16,
   "metadata": {},
   "outputs": [
    {
     "data": {
      "text/plain": [
       "False"
      ]
     },
     "execution_count": 16,
     "metadata": {},
     "output_type": "execute_result"
    }
   ],
   "source": [
    "\n",
    "\n",
    "callable(lista)"
   ]
  },
  {
   "cell_type": "code",
   "execution_count": 17,
   "metadata": {},
   "outputs": [],
   "source": [
    "def somar (*args):\n",
    "    return sum(args)"
   ]
  },
  {
   "cell_type": "code",
   "execution_count": 18,
   "metadata": {},
   "outputs": [
    {
     "data": {
      "text/plain": [
       "15"
      ]
     },
     "execution_count": 18,
     "metadata": {},
     "output_type": "execute_result"
    }
   ],
   "source": [
    "somar(1, 2, 3, 4, 5)"
   ]
  },
  {
   "cell_type": "code",
   "execution_count": 23,
   "metadata": {},
   "outputs": [],
   "source": [
    "def calculadora (*args, funcao):\n",
    "    print(*args)\n",
    "    print (funcao)\n"
   ]
  },
  {
   "cell_type": "code",
   "execution_count": 24,
   "metadata": {},
   "outputs": [
    {
     "name": "stdout",
     "output_type": "stream",
     "text": [
      "1 2 3\n",
      "teste\n"
     ]
    }
   ],
   "source": [
    "calculadora(1, 2, 3, funcao='teste')"
   ]
  },
  {
   "cell_type": "code",
   "execution_count": 29,
   "metadata": {},
   "outputs": [],
   "source": [
    "def somar (*args):\n",
    "    return sum(args)"
   ]
  },
  {
   "cell_type": "code",
   "execution_count": 34,
   "metadata": {},
   "outputs": [],
   "source": [
    "def calculadora (*args, funcao):\n",
    "    return funcao(*args)\n",
    "    \n",
    "    "
   ]
  },
  {
   "cell_type": "code",
   "execution_count": 35,
   "metadata": {},
   "outputs": [
    {
     "name": "stdout",
     "output_type": "stream",
     "text": [
      "6\n"
     ]
    }
   ],
   "source": [
    "print(calculadora(1, 2, 3, funcao=somar))"
   ]
  },
  {
   "cell_type": "code",
   "execution_count": 43,
   "metadata": {},
   "outputs": [],
   "source": [
    "def multiplicar (*args):\n",
    "    resultado = 1\n",
    "    for i in args:\n",
    "        resultado *= i\n",
    "    return resultado"
   ]
  },
  {
   "cell_type": "code",
   "execution_count": 44,
   "metadata": {},
   "outputs": [
    {
     "name": "stdout",
     "output_type": "stream",
     "text": [
      "720\n"
     ]
    }
   ],
   "source": [
    "print(calculadora(1, 2, 3, 4, 5, 6, funcao=multiplicar))"
   ]
  },
  {
   "cell_type": "code",
   "execution_count": null,
   "metadata": {},
   "outputs": [],
   "source": []
  }
 ],
 "metadata": {
  "kernelspec": {
   "display_name": "base",
   "language": "python",
   "name": "python3"
  },
  "language_info": {
   "codemirror_mode": {
    "name": "ipython",
    "version": 3
   },
   "file_extension": ".py",
   "mimetype": "text/x-python",
   "name": "python",
   "nbconvert_exporter": "python",
   "pygments_lexer": "ipython3",
   "version": "3.11.5"
  }
 },
 "nbformat": 4,
 "nbformat_minor": 2
}
